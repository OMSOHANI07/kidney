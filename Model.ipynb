{
 "cells": [
  {
   "cell_type": "code",
   "execution_count": 1,
   "id": "947ca520",
   "metadata": {},
   "outputs": [
    {
     "name": "stdout",
     "output_type": "stream",
     "text": [
      "   id  age  bp     sg  al  su  bgr    bu   sc    sod  pot  hemo  pcv    wc  \\\n",
      "0   0   48  80  1.020   1   0  121  36.0  1.2  138.0  4.4  15.4   44  7800   \n",
      "1   1    7  50  1.020   4   0  121  18.0  0.8  138.0  4.4  11.3   38  6000   \n",
      "2   2   62  80  1.010   2   3  423  53.0  1.8  138.0  4.4   9.6   31  7500   \n",
      "3   3   48  70  1.005   4   0  117  56.0  3.8  111.0  2.5  11.2   32  6700   \n",
      "4   4   51  80  1.010   2   0  106  26.0  1.4  138.0  4.4  11.6   35  7300   \n",
      "\n",
      "    rc  htn  dm  gender        eGFR CKD_stage  \n",
      "0  5.2    1   4       1   52.453738  Stage 3a  \n",
      "1  4.8    0   3       0  114.222481   Stage 1  \n",
      "2  4.8    0   4       1   29.118674   Stage 4  \n",
      "3  3.9    1   3       0   13.018118   Stage 5  \n",
      "4  4.6    0   3       0   42.627074  Stage 3b  \n",
      "Accuracy: 96.25%\n",
      "\n",
      "CKD_stage Report:\n",
      "              precision    recall  f1-score   support\n",
      "\n",
      "     Stage 1       1.00      0.67      0.80         3\n",
      "     Stage 2       1.00      1.00      1.00         1\n",
      "    Stage 3a       0.86      0.86      0.86         7\n",
      "    Stage 3b       1.00      0.90      0.95        10\n",
      "     Stage 4       0.89      1.00      0.94         8\n",
      "     Stage 5       1.00      1.00      1.00        23\n",
      "      notckd       0.97      1.00      0.98        28\n",
      "\n",
      "    accuracy                           0.96        80\n",
      "   macro avg       0.96      0.92      0.93        80\n",
      "weighted avg       0.96      0.96      0.96        80\n",
      "\n"
     ]
    }
   ],
   "source": [
    "# Import necessary libraries\n",
    "import pandas as pd\n",
    "from sklearn.model_selection import train_test_split\n",
    "from sklearn.ensemble import RandomForestClassifier\n",
    "from sklearn.metrics import accuracy_score, classification_report\n",
    "\n",
    "\n",
    "dataset = pd.read_csv('Kidney_disease_final.csv')\n",
    "\n",
    "\n",
    "print(dataset.head())\n",
    "\n",
    "\n",
    "X = dataset[['age', 'bp', 'sg', 'al', 'su','bgr','bu','sc','sod','pot','hemo','pcv','wc','rc','htn','dm','gender','eGFR']]\n",
    "y = dataset['CKD_stage']\n",
    "\n",
    "\n",
    "X_train, X_test, y_train, y_test = train_test_split(X, y, test_size=0.2, random_state=42)\n",
    "\n",
    "from sklearn.preprocessing import StandardScaler\n",
    "scaler=StandardScaler()\n",
    "X_train=scaler.fit_transform(X_train)\n",
    "X_test=scaler.transform(X_test)\n",
    "import pickle\n",
    "pickle.dump(scaler,open('scaling.pkl','wb'))\n",
    "\n",
    "rf_model = RandomForestClassifier(n_estimators=100, random_state=42)\n",
    "rf_model.fit(X_train, y_train)\n",
    "\n",
    "\n",
    "\n",
    "\n",
    "y_pred = rf_model.predict(X_test)\n",
    "\n",
    "\n",
    "accuracy = accuracy_score(y_test, y_pred)\n",
    "print(f'Accuracy: {accuracy * 100:.2f}%')\n",
    "\n",
    "\n",
    "print('\\nCKD_stage Report:')\n",
    "print(classification_report(y_test, y_pred))\n"
   ]
  },
  {
   "cell_type": "code",
   "execution_count": 2,
   "id": "6f7f6eb3",
   "metadata": {},
   "outputs": [],
   "source": [
    "import pickle"
   ]
  },
  {
   "cell_type": "code",
   "execution_count": 3,
   "id": "9757666f",
   "metadata": {},
   "outputs": [],
   "source": [
    "pickle.dump(rf_model,open('kidney.pkl','wb'))"
   ]
  },
  {
   "cell_type": "code",
   "execution_count": 4,
   "id": "6cbf8c82",
   "metadata": {},
   "outputs": [],
   "source": [
    "pickled_model = pickle.load(open('kidney.pkl','rb'))"
   ]
  },
  {
   "cell_type": "code",
   "execution_count": null,
   "id": "4e75c98a",
   "metadata": {},
   "outputs": [],
   "source": []
  }
 ],
 "metadata": {
  "kernelspec": {
   "display_name": "Python 3 (ipykernel)",
   "language": "python",
   "name": "python3"
  },
  "language_info": {
   "codemirror_mode": {
    "name": "ipython",
    "version": 3
   },
   "file_extension": ".py",
   "mimetype": "text/x-python",
   "name": "python",
   "nbconvert_exporter": "python",
   "pygments_lexer": "ipython3",
   "version": "3.11.4"
  }
 },
 "nbformat": 4,
 "nbformat_minor": 5
}
